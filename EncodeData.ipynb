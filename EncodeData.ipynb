{
 "cells": [
  {
   "cell_type": "markdown",
   "id": "702c6807-7459-46e0-b9bc-ec51b766901f",
   "metadata": {},
   "source": [
    "# **How to Encode Data**\n",
    "\n",
    "---"
   ]
  },
  {
   "cell_type": "markdown",
   "id": "4b8e05fc-6d0c-4f6f-9c2d-a9ff60bc061d",
   "metadata": {},
   "source": [
    "## **Introduction**\n",
    "\n",
    "Categorical data must be encoded into numerical formats for machine learning models to process them. Encoding ensures that algorithms can interpret these features without introducing unintended biases.\n",
    "\n",
    "This notebook covers:\n",
    "1. **Why encoding is necessary.**\n",
    "2. **Popular encoding methods and their applications.**\n",
    "3. **Choosing the best encoding approach based on real-world scenarios.**\n",
    "\n",
    "---"
   ]
  },
  {
   "cell_type": "markdown",
   "id": "46127665-3400-4b52-b0a9-fd9f7f44ac61",
   "metadata": {},
   "source": [
    "## **1. Why Encoding is Necessary**\n",
    "\n",
    "### Machine Learning Models and Numerical Data:\n",
    "Most machine learning models, like Logistic Regression, SVMs, and Decision Trees, expect numerical inputs. Categorical variables need to be encoded to represent their relationships with the target variable accurately.\n",
    "\n",
    "### Challenges in Encoding:\n",
    "1. **Preserving relationships**:\n",
    "   - Nominal data should not imply an order.\n",
    "   - Ordinal data must respect the natural order.\n",
    "2. **Avoiding data leakage**:\n",
    "   - Methods like Target Encoding must be used carefully in cross-validation.\n",
    "\n",
    "---"
   ]
  },
  {
   "cell_type": "markdown",
   "id": "d8b7edde-a5a0-4aae-9c9b-aa3d1d7e8fd6",
   "metadata": {},
   "source": [
    "## **2. Encoding Methods**\n",
    "\n",
    "### **2.1 One-Hot Encoding**\n",
    "- **Purpose**: Converts each category into a binary column.\n",
    "- **When to Use**:\n",
    "  - For **nominal variables** (no order), such as colors or product types.\n",
    "  - When the number of categories is relatively small.\n",
    "\n"
   ]
  },
  {
   "cell_type": "markdown",
   "id": "a583b84a-dba6-477a-a704-0fc3a1bbc5cc",
   "metadata": {},
   "source": [
    "#### **Example**: Nominal Variable"
   ]
  },
  {
   "cell_type": "code",
   "execution_count": 6,
   "id": "111b2358-2aba-479f-9fd2-b73ee18f2a70",
   "metadata": {},
   "outputs": [
    {
     "data": {
      "text/html": [
       "<div>\n",
       "<style scoped>\n",
       "    .dataframe tbody tr th:only-of-type {\n",
       "        vertical-align: middle;\n",
       "    }\n",
       "\n",
       "    .dataframe tbody tr th {\n",
       "        vertical-align: top;\n",
       "    }\n",
       "\n",
       "    .dataframe thead th {\n",
       "        text-align: right;\n",
       "    }\n",
       "</style>\n",
       "<table border=\"1\" class=\"dataframe\">\n",
       "  <thead>\n",
       "    <tr style=\"text-align: right;\">\n",
       "      <th></th>\n",
       "      <th>Color</th>\n",
       "      <th>Color_Green</th>\n",
       "      <th>Color_Red</th>\n",
       "    </tr>\n",
       "  </thead>\n",
       "  <tbody>\n",
       "    <tr>\n",
       "      <th>0</th>\n",
       "      <td>Red</td>\n",
       "      <td>0.0</td>\n",
       "      <td>1.0</td>\n",
       "    </tr>\n",
       "    <tr>\n",
       "      <th>1</th>\n",
       "      <td>Blue</td>\n",
       "      <td>0.0</td>\n",
       "      <td>0.0</td>\n",
       "    </tr>\n",
       "    <tr>\n",
       "      <th>2</th>\n",
       "      <td>Green</td>\n",
       "      <td>1.0</td>\n",
       "      <td>0.0</td>\n",
       "    </tr>\n",
       "    <tr>\n",
       "      <th>3</th>\n",
       "      <td>Blue</td>\n",
       "      <td>0.0</td>\n",
       "      <td>0.0</td>\n",
       "    </tr>\n",
       "    <tr>\n",
       "      <th>4</th>\n",
       "      <td>Red</td>\n",
       "      <td>0.0</td>\n",
       "      <td>1.0</td>\n",
       "    </tr>\n",
       "    <tr>\n",
       "      <th>5</th>\n",
       "      <td>Green</td>\n",
       "      <td>1.0</td>\n",
       "      <td>0.0</td>\n",
       "    </tr>\n",
       "    <tr>\n",
       "      <th>6</th>\n",
       "      <td>Red</td>\n",
       "      <td>0.0</td>\n",
       "      <td>1.0</td>\n",
       "    </tr>\n",
       "  </tbody>\n",
       "</table>\n",
       "</div>"
      ],
      "text/plain": [
       "   Color  Color_Green  Color_Red\n",
       "0    Red          0.0        1.0\n",
       "1   Blue          0.0        0.0\n",
       "2  Green          1.0        0.0\n",
       "3   Blue          0.0        0.0\n",
       "4    Red          0.0        1.0\n",
       "5  Green          1.0        0.0\n",
       "6    Red          0.0        1.0"
      ]
     },
     "execution_count": 6,
     "metadata": {},
     "output_type": "execute_result"
    }
   ],
   "source": [
    "from sklearn.preprocessing import OneHotEncoder\n",
    "\n",
    "# Nominal feature example\n",
    "data = {\"Color\": [\"Red\", \"Blue\", \"Green\", \"Blue\", \"Red\", \"Green\", \"Red\"]}\n",
    "df_nominal = pd.DataFrame(data)\n",
    "\n",
    "# One-Hot Encoding\n",
    "ohe = OneHotEncoder(sparse_output=False, drop=\"first\")  # Drop \"Red\" to prevent multicollinearity\n",
    "encoded = ohe.fit_transform(df_nominal[[\"Color\"]])\n",
    "encoded_df = pd.DataFrame(encoded, columns=ohe.get_feature_names_out())\n",
    "result = pd.concat([df_nominal, encoded_df], axis=1)\n",
    "result"
   ]
  },
  {
   "cell_type": "markdown",
   "id": "fa229714-645c-488e-9ad3-91e1a776ce4f",
   "metadata": {},
   "source": [
    "**Each category (\"Blue,\" \"Green\") is converted into a binary column, with \"Red\" dropped to avoid multicollinearity.**"
   ]
  },
  {
   "cell_type": "markdown",
   "id": "d93e3598-5068-4cf6-9913-4f4bf509c49b",
   "metadata": {},
   "source": [
    "---"
   ]
  },
  {
   "cell_type": "markdown",
   "id": "9ca5bfeb-0386-4c4a-9e96-ea411385559c",
   "metadata": {},
   "source": [
    "### **2.2 Label Encoding**\n",
    "- **Purpose**: Assigns a numeric value to each category.\n",
    "- **When to Use**:\n",
    "  - For **ordinal variables** (with a meaningful order), such as \"Low,\" \"Medium,\" \"High.\""
   ]
  },
  {
   "cell_type": "markdown",
   "id": "2c880481-9efc-4b3a-abfa-6313cc5a012e",
   "metadata": {},
   "source": [
    "#### **Example**: Ordinal Variable"
   ]
  },
  {
   "cell_type": "code",
   "execution_count": 7,
   "id": "1ec260e1-7519-4910-b654-db462bae25d8",
   "metadata": {},
   "outputs": [
    {
     "data": {
      "text/html": [
       "<div>\n",
       "<style scoped>\n",
       "    .dataframe tbody tr th:only-of-type {\n",
       "        vertical-align: middle;\n",
       "    }\n",
       "\n",
       "    .dataframe tbody tr th {\n",
       "        vertical-align: top;\n",
       "    }\n",
       "\n",
       "    .dataframe thead th {\n",
       "        text-align: right;\n",
       "    }\n",
       "</style>\n",
       "<table border=\"1\" class=\"dataframe\">\n",
       "  <thead>\n",
       "    <tr style=\"text-align: right;\">\n",
       "      <th></th>\n",
       "      <th>Priority</th>\n",
       "      <th>Encoded_Priority</th>\n",
       "    </tr>\n",
       "  </thead>\n",
       "  <tbody>\n",
       "    <tr>\n",
       "      <th>0</th>\n",
       "      <td>Low</td>\n",
       "      <td>1</td>\n",
       "    </tr>\n",
       "    <tr>\n",
       "      <th>1</th>\n",
       "      <td>Medium</td>\n",
       "      <td>2</td>\n",
       "    </tr>\n",
       "    <tr>\n",
       "      <th>2</th>\n",
       "      <td>High</td>\n",
       "      <td>3</td>\n",
       "    </tr>\n",
       "    <tr>\n",
       "      <th>3</th>\n",
       "      <td>Medium</td>\n",
       "      <td>2</td>\n",
       "    </tr>\n",
       "    <tr>\n",
       "      <th>4</th>\n",
       "      <td>Low</td>\n",
       "      <td>1</td>\n",
       "    </tr>\n",
       "  </tbody>\n",
       "</table>\n",
       "</div>"
      ],
      "text/plain": [
       "  Priority  Encoded_Priority\n",
       "0      Low                 1\n",
       "1   Medium                 2\n",
       "2     High                 3\n",
       "3   Medium                 2\n",
       "4      Low                 1"
      ]
     },
     "execution_count": 7,
     "metadata": {},
     "output_type": "execute_result"
    }
   ],
   "source": [
    "# Ordinal feature example\n",
    "data = {\"Priority\": [\"Low\", \"Medium\", \"High\", \"Medium\", \"Low\"]}\n",
    "df_ordinal = pd.DataFrame(data)\n",
    "\n",
    "# Map ordinal categories to integers\n",
    "ordinal_mapping = {\"Low\": 1, \"Medium\": 2, \"High\": 3}\n",
    "df_ordinal[\"Encoded_Priority\"] = df_ordinal[\"Priority\"].map(ordinal_mapping)\n",
    "df_ordinal"
   ]
  },
  {
   "cell_type": "markdown",
   "id": "0cb83c68-53ad-4cd4-985d-0dff3ad3d55d",
   "metadata": {},
   "source": [
    "**\"Low\" = 1, \"Medium\" = 2, \"High\" = 3, reflecting their natural order.**"
   ]
  },
  {
   "cell_type": "markdown",
   "id": "f5247ce3-54d3-4655-9a64-83799e828199",
   "metadata": {},
   "source": [
    "---"
   ]
  },
  {
   "cell_type": "markdown",
   "id": "86d0b663-f047-4e26-bc25-aeb9837f443e",
   "metadata": {},
   "source": [
    "### **2.3 Target Encoding**\n",
    "- **Purpose**: Encodes categories based on the mean value of the target variable.\n",
    "- **When to Use**:\n",
    "  - For nominal variables with many unique categories.\n",
    "  - Works well for high-cardinality features."
   ]
  },
  {
   "cell_type": "markdown",
   "id": "cf239c8d-3407-4721-8838-d06650e5a254",
   "metadata": {},
   "source": [
    "#### **Example**: High Cardinality"
   ]
  },
  {
   "cell_type": "code",
   "execution_count": 8,
   "id": "ed9c84a8-ae83-4400-94db-3e146385ecb4",
   "metadata": {},
   "outputs": [
    {
     "data": {
      "text/html": [
       "<div>\n",
       "<style scoped>\n",
       "    .dataframe tbody tr th:only-of-type {\n",
       "        vertical-align: middle;\n",
       "    }\n",
       "\n",
       "    .dataframe tbody tr th {\n",
       "        vertical-align: top;\n",
       "    }\n",
       "\n",
       "    .dataframe thead th {\n",
       "        text-align: right;\n",
       "    }\n",
       "</style>\n",
       "<table border=\"1\" class=\"dataframe\">\n",
       "  <thead>\n",
       "    <tr style=\"text-align: right;\">\n",
       "      <th></th>\n",
       "      <th>Category</th>\n",
       "      <th>Target</th>\n",
       "      <th>Target_Encoded</th>\n",
       "    </tr>\n",
       "  </thead>\n",
       "  <tbody>\n",
       "    <tr>\n",
       "      <th>0</th>\n",
       "      <td>A</td>\n",
       "      <td>1</td>\n",
       "      <td>1.0</td>\n",
       "    </tr>\n",
       "    <tr>\n",
       "      <th>1</th>\n",
       "      <td>B</td>\n",
       "      <td>0</td>\n",
       "      <td>0.0</td>\n",
       "    </tr>\n",
       "    <tr>\n",
       "      <th>2</th>\n",
       "      <td>C</td>\n",
       "      <td>1</td>\n",
       "      <td>0.5</td>\n",
       "    </tr>\n",
       "    <tr>\n",
       "      <th>3</th>\n",
       "      <td>B</td>\n",
       "      <td>0</td>\n",
       "      <td>0.0</td>\n",
       "    </tr>\n",
       "    <tr>\n",
       "      <th>4</th>\n",
       "      <td>A</td>\n",
       "      <td>1</td>\n",
       "      <td>1.0</td>\n",
       "    </tr>\n",
       "    <tr>\n",
       "      <th>5</th>\n",
       "      <td>C</td>\n",
       "      <td>0</td>\n",
       "      <td>0.5</td>\n",
       "    </tr>\n",
       "    <tr>\n",
       "      <th>6</th>\n",
       "      <td>A</td>\n",
       "      <td>1</td>\n",
       "      <td>1.0</td>\n",
       "    </tr>\n",
       "  </tbody>\n",
       "</table>\n",
       "</div>"
      ],
      "text/plain": [
       "  Category  Target  Target_Encoded\n",
       "0        A       1             1.0\n",
       "1        B       0             0.0\n",
       "2        C       1             0.5\n",
       "3        B       0             0.0\n",
       "4        A       1             1.0\n",
       "5        C       0             0.5\n",
       "6        A       1             1.0"
      ]
     },
     "execution_count": 8,
     "metadata": {},
     "output_type": "execute_result"
    }
   ],
   "source": [
    "# Example with high-cardinality nominal variable\n",
    "data = {\"Category\": [\"A\", \"B\", \"C\", \"B\", \"A\", \"C\", \"A\"], \"Target\": [1, 0, 1, 0, 1, 0, 1]}\n",
    "df_target = pd.DataFrame(data)\n",
    "\n",
    "# Calculate target mean per category\n",
    "target_mean = df_target.groupby(\"Category\")[\"Target\"].mean()\n",
    "df_target[\"Target_Encoded\"] = df_target[\"Category\"].map(target_mean)\n",
    "df_target"
   ]
  },
  {
   "cell_type": "markdown",
   "id": "f1cce3af-c926-49cf-9baf-6a8f96cd8ecb",
   "metadata": {},
   "source": [
    "**Each category is replaced with the mean value of the target variable for that category.**"
   ]
  },
  {
   "cell_type": "markdown",
   "id": "4f453630-219a-4144-87a7-31aa2331f4d5",
   "metadata": {},
   "source": [
    "#### **Challenges**:\n",
    "- Can lead to **data leakage** if not used with cross-validation.\n",
    "- Use libraries like `category_encoders` for proper implementation.\n",
    "\n",
    "---"
   ]
  },
  {
   "cell_type": "markdown",
   "id": "f867c65c-a342-4767-a5d6-1a6b76030faf",
   "metadata": {},
   "source": [
    "### **2.4 Frequency Encoding**\n",
    "- **Purpose**: Replaces categories with their frequency in the dataset.\n",
    "- **When to Use**:\n",
    "  - For large datasets or when category frequency matters."
   ]
  },
  {
   "cell_type": "code",
   "execution_count": 9,
   "id": "3b23fdd4-d311-4237-8b8b-fe3875895164",
   "metadata": {},
   "outputs": [
    {
     "data": {
      "text/html": [
       "<div>\n",
       "<style scoped>\n",
       "    .dataframe tbody tr th:only-of-type {\n",
       "        vertical-align: middle;\n",
       "    }\n",
       "\n",
       "    .dataframe tbody tr th {\n",
       "        vertical-align: top;\n",
       "    }\n",
       "\n",
       "    .dataframe thead th {\n",
       "        text-align: right;\n",
       "    }\n",
       "</style>\n",
       "<table border=\"1\" class=\"dataframe\">\n",
       "  <thead>\n",
       "    <tr style=\"text-align: right;\">\n",
       "      <th></th>\n",
       "      <th>City</th>\n",
       "      <th>Frequency_Encoded</th>\n",
       "    </tr>\n",
       "  </thead>\n",
       "  <tbody>\n",
       "    <tr>\n",
       "      <th>0</th>\n",
       "      <td>NY</td>\n",
       "      <td>0.428571</td>\n",
       "    </tr>\n",
       "    <tr>\n",
       "      <th>1</th>\n",
       "      <td>LA</td>\n",
       "      <td>0.285714</td>\n",
       "    </tr>\n",
       "    <tr>\n",
       "      <th>2</th>\n",
       "      <td>SF</td>\n",
       "      <td>0.285714</td>\n",
       "    </tr>\n",
       "    <tr>\n",
       "      <th>3</th>\n",
       "      <td>NY</td>\n",
       "      <td>0.428571</td>\n",
       "    </tr>\n",
       "    <tr>\n",
       "      <th>4</th>\n",
       "      <td>SF</td>\n",
       "      <td>0.285714</td>\n",
       "    </tr>\n",
       "    <tr>\n",
       "      <th>5</th>\n",
       "      <td>NY</td>\n",
       "      <td>0.428571</td>\n",
       "    </tr>\n",
       "    <tr>\n",
       "      <th>6</th>\n",
       "      <td>LA</td>\n",
       "      <td>0.285714</td>\n",
       "    </tr>\n",
       "  </tbody>\n",
       "</table>\n",
       "</div>"
      ],
      "text/plain": [
       "  City  Frequency_Encoded\n",
       "0   NY           0.428571\n",
       "1   LA           0.285714\n",
       "2   SF           0.285714\n",
       "3   NY           0.428571\n",
       "4   SF           0.285714\n",
       "5   NY           0.428571\n",
       "6   LA           0.285714"
      ]
     },
     "execution_count": 9,
     "metadata": {},
     "output_type": "execute_result"
    }
   ],
   "source": [
    "# Frequency Encoding\n",
    "data = {\"City\": [\"NY\", \"LA\", \"SF\", \"NY\", \"SF\", \"NY\", \"LA\"]}\n",
    "df_freq = pd.DataFrame(data)\n",
    "\n",
    "# Calculate frequency\n",
    "frequency = df_freq[\"City\"].value_counts(normalize=True)\n",
    "df_freq[\"Frequency_Encoded\"] = df_freq[\"City\"].map(frequency)\n",
    "df_freq"
   ]
  },
  {
   "cell_type": "markdown",
   "id": "1a75f671-b9da-4968-ae66-ec0da1c67187",
   "metadata": {},
   "source": [
    "---"
   ]
  },
  {
   "cell_type": "markdown",
   "id": "1d32b1d8-8dda-4ede-809b-1bf0d103512f",
   "metadata": {},
   "source": [
    "### **2.5 Binary Encoding**\n",
    "- **Purpose**: Converts categories into binary representations.\n",
    "- **When to Use**:\n",
    "  - For features with medium cardinality.\n",
    "  - Reduces dimensionality compared to One-Hot Encoding."
   ]
  },
  {
   "cell_type": "code",
   "execution_count": 12,
   "id": "87ec794d-2cc3-4f53-a44b-25aa5cba301f",
   "metadata": {},
   "outputs": [
    {
     "data": {
      "text/html": [
       "<div>\n",
       "<style scoped>\n",
       "    .dataframe tbody tr th:only-of-type {\n",
       "        vertical-align: middle;\n",
       "    }\n",
       "\n",
       "    .dataframe tbody tr th {\n",
       "        vertical-align: top;\n",
       "    }\n",
       "\n",
       "    .dataframe thead th {\n",
       "        text-align: right;\n",
       "    }\n",
       "</style>\n",
       "<table border=\"1\" class=\"dataframe\">\n",
       "  <thead>\n",
       "    <tr style=\"text-align: right;\">\n",
       "      <th></th>\n",
       "      <th>State_0</th>\n",
       "      <th>State_1</th>\n",
       "      <th>State_2</th>\n",
       "    </tr>\n",
       "  </thead>\n",
       "  <tbody>\n",
       "    <tr>\n",
       "      <th>0</th>\n",
       "      <td>0</td>\n",
       "      <td>0</td>\n",
       "      <td>1</td>\n",
       "    </tr>\n",
       "    <tr>\n",
       "      <th>1</th>\n",
       "      <td>0</td>\n",
       "      <td>1</td>\n",
       "      <td>0</td>\n",
       "    </tr>\n",
       "    <tr>\n",
       "      <th>2</th>\n",
       "      <td>0</td>\n",
       "      <td>1</td>\n",
       "      <td>1</td>\n",
       "    </tr>\n",
       "    <tr>\n",
       "      <th>3</th>\n",
       "      <td>0</td>\n",
       "      <td>1</td>\n",
       "      <td>0</td>\n",
       "    </tr>\n",
       "    <tr>\n",
       "      <th>4</th>\n",
       "      <td>0</td>\n",
       "      <td>0</td>\n",
       "      <td>1</td>\n",
       "    </tr>\n",
       "    <tr>\n",
       "      <th>5</th>\n",
       "      <td>0</td>\n",
       "      <td>1</td>\n",
       "      <td>1</td>\n",
       "    </tr>\n",
       "    <tr>\n",
       "      <th>6</th>\n",
       "      <td>1</td>\n",
       "      <td>0</td>\n",
       "      <td>0</td>\n",
       "    </tr>\n",
       "  </tbody>\n",
       "</table>\n",
       "</div>"
      ],
      "text/plain": [
       "   State_0  State_1  State_2\n",
       "0        0        0        1\n",
       "1        0        1        0\n",
       "2        0        1        1\n",
       "3        0        1        0\n",
       "4        0        0        1\n",
       "5        0        1        1\n",
       "6        1        0        0"
      ]
     },
     "execution_count": 12,
     "metadata": {},
     "output_type": "execute_result"
    }
   ],
   "source": [
    "from category_encoders import BinaryEncoder\n",
    "\n",
    "# Binary Encoding\n",
    "data = {\"State\": [\"CA\", \"TX\", \"NY\", \"TX\", \"CA\", \"NY\", \"FL\"]}\n",
    "df_binary = pd.DataFrame(data)\n",
    "encoder = BinaryEncoder(cols=[\"State\"])\n",
    "binary_encoded = encoder.fit_transform(df_binary)\n",
    "binary_encoded"
   ]
  },
  {
   "cell_type": "markdown",
   "id": "3adc3278-b66e-43eb-b341-035fed58421a",
   "metadata": {},
   "source": [
    "---"
   ]
  },
  {
   "cell_type": "markdown",
   "id": "62c89d12-79f5-4c52-9c70-150a387f7f78",
   "metadata": {},
   "source": [
    "## **3. Choosing the Right Encoding**"
   ]
  },
  {
   "cell_type": "markdown",
   "id": "91e3e5dd-9c6d-4935-8af7-0910617d8eb9",
   "metadata": {},
   "source": [
    "### **Guidelines**:\n",
    "| Encoding Type     | When to Use                               | Advantages                     | Disadvantages               |\n",
    "|--------------------|-------------------------------------------|--------------------------------|-----------------------------|\n",
    "| **One-Hot**       | Nominal, few categories                  | Easy to implement             | Increases dimensionality    |\n",
    "| **Label**         | Ordinal                                  | Simple, preserves order        | Misleading for nominal data |\n",
    "| **Target**        | High-cardinality nominal                 | Captures target information    | Risk of data leakage        |\n",
    "| **Frequency**     | High-cardinality nominal                 | Captures distribution info     | Limited interpretability    |\n",
    "| **Binary**        | Medium-cardinality                       | Reduces dimensions             | Complex encoding            |\n",
    "\n",
    "---"
   ]
  },
  {
   "cell_type": "markdown",
   "id": "504c5a6d-0f16-4920-9928-7e8c9c80ce20",
   "metadata": {},
   "source": [
    "## **4. Implementation on Synthetic Dataset**"
   ]
  },
  {
   "cell_type": "markdown",
   "id": "e6add27e-0b39-48f4-9e78-c5fb7e53c432",
   "metadata": {},
   "source": [
    "### **Dataset**:"
   ]
  },
  {
   "cell_type": "code",
   "execution_count": 13,
   "id": "88aefad9-c0ac-4417-9e5e-b2eed4e2ce5d",
   "metadata": {},
   "outputs": [],
   "source": [
    "data = {\n",
    "    \"Nominal_Category\": [\"Red\", \"Blue\", \"Green\", \"Blue\", \"Red\", \"Green\", \"Red\"],\n",
    "    \"Ordinal_Category\": [\"Low\", \"Medium\", \"High\", \"Medium\", \"Low\", \"High\", \"Medium\"],\n",
    "    \"Target\": [1, 0, 1, 0, 1, 0, 1]\n",
    "}\n",
    "df = pd.DataFrame(data)"
   ]
  },
  {
   "cell_type": "markdown",
   "id": "c84853dc-75aa-4161-9f38-27587df1b409",
   "metadata": {},
   "source": [
    "### **Step-by-Step Encoding**:\n",
    "1. **One-Hot Encoding** for Nominal_Category.\n",
    "2. **Label Encoding** for Ordinal_Category.\n",
    "3. **Target Encoding** for Nominal_Category based on Target.\n",
    "\n",
    "---"
   ]
  },
  {
   "cell_type": "markdown",
   "id": "e584d3fe-93fd-4978-9a14-d7a2aaead39a",
   "metadata": {},
   "source": [
    "## **5. Summary**\n",
    "\n",
    "- Encoding categorical variables is crucial for preparing data for machine learning.\n",
    "- The choice of encoding depends on the type of variable (nominal vs. ordinal) and the dataset's size.\n",
    "- Always consider trade-offs like dimensionality and data leakage when selecting an encoding method.\n",
    "\n",
    "---\n",
    "---"
   ]
  }
 ],
 "metadata": {
  "kernelspec": {
   "display_name": "Python 3 (ipykernel)",
   "language": "python",
   "name": "python3"
  },
  "language_info": {
   "codemirror_mode": {
    "name": "ipython",
    "version": 3
   },
   "file_extension": ".py",
   "mimetype": "text/x-python",
   "name": "python",
   "nbconvert_exporter": "python",
   "pygments_lexer": "ipython3",
   "version": "3.12.4"
  }
 },
 "nbformat": 4,
 "nbformat_minor": 5
}

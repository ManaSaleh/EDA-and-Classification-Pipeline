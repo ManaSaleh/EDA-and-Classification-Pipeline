{
 "cells": [
  {
   "cell_type": "markdown",
   "id": "b2ca69a4-4fd3-4fce-a59f-a174061ba624",
   "metadata": {},
   "source": [
    "# **How to Scale or Normalize Data**\n",
    "\n",
    "---"
   ]
  },
  {
   "cell_type": "markdown",
   "id": "b2bb551b-fa05-4724-a81c-f60dda9a0a25",
   "metadata": {},
   "source": [
    "## **1. Introduction to Scaling and Normalization**\n",
    "\n",
    "### Why Scaling is Critical:\n",
    "Scaling ensures that machine learning algorithms perform optimally by standardizing the feature magnitudes. Some models are sensitive to feature scales:\n",
    "1. **Gradient-Based Models**: Faster convergence during optimization.\n",
    "2. **Distance-Based Models**: Models like KNN and SVM rely on distance metrics, which can be skewed by large feature values.\n",
    "\n",
    "### Difference Between Scaling and Normalization:\n",
    "1. **Scaling**:\n",
    "   - Adjusts data to a specific range (e.g., 0–1 or z-score).\n",
    "   - Maintains feature distributions.\n",
    "   - Common methods: StandardScaler, MinMaxScaler.\n",
    "2. **Normalization**:\n",
    "   - Adjusts data to a unit norm (length of the vector = 1).\n",
    "   - Often used in sparse data or clustering.\n",
    "\n",
    "---"
   ]
  },
  {
   "cell_type": "markdown",
   "id": "dfa67720-152b-439a-a1a2-c1a3a8298df8",
   "metadata": {},
   "source": [
    "## **2. Scaling Techniques**\n",
    "\n",
    "### **2.1 StandardScaler**\n",
    "- **What it does**: Standardizes features by removing the mean and scaling to unit variance.\n",
    "- **Formula**:\n",
    "  $\n",
    "  z = \\frac{x - \\mu}{\\sigma}\n",
    "  $\n",
    "  Where:\n",
    "  - $(x)$: Original value.\n",
    "  - $(\\mu)$: Mean of the feature.\n",
    "  - $(\\sigma):$ Standard deviation of the feature.\n",
    "\n",
    "- **When to use**: Gradient-based models (Logistic Regression, SVM) and KNN.\n",
    "\n",
    "---"
   ]
  },
  {
   "cell_type": "markdown",
   "id": "16ca10d3-be9c-4bd3-9c42-1f2e033ecff1",
   "metadata": {},
   "source": [
    "### **2.2 MinMaxScaler**\n",
    "- **What it does**: Scales features to a specific range, usually $([0, 1])$.\n",
    "- **Formula**:\n",
    "  $\n",
    "  x' = \\frac{x - x_{min}}{x_{max} - x_{min}}\n",
    "  $\n",
    "  Where:\n",
    "  - $(x_{min})$: Minimum value of the feature.\n",
    "  - $(x_{max})$: Maximum value of the feature.\n",
    "\n",
    "- **When to use**: Neural networks or models sensitive to input magnitudes.\n",
    "\n",
    "---"
   ]
  },
  {
   "cell_type": "markdown",
   "id": "6ed924f6-5b0e-4a30-972c-5c0ba4477605",
   "metadata": {},
   "source": [
    "### **2.3 RobustScaler**\n",
    "- **What it does**: Uses the median and interquartile range (IQR) for scaling.\n",
    "- **When to use**: Datasets with many outliers.\n",
    "\n",
    "---"
   ]
  },
  {
   "cell_type": "markdown",
   "id": "d21c0770-cff6-4c7c-b57d-ea8c77864f26",
   "metadata": {},
   "source": [
    "### **2.4 Comparing Techniques Visually**\n",
    "\n",
    "Below, we apply different scaling methods to a synthetic dataset and compare the results visually.\n",
    "\n",
    "---"
   ]
  },
  {
   "cell_type": "markdown",
   "id": "ea7b9466-ea3a-449d-a260-29518f3744f8",
   "metadata": {},
   "source": [
    "### **3. Implementation**\n",
    "\n",
    "#### **Dataset Overview**"
   ]
  },
  {
   "cell_type": "code",
   "execution_count": 1,
   "id": "fbd4b8a7-91a5-43e7-a325-57617051e818",
   "metadata": {},
   "outputs": [
    {
     "data": {
      "text/html": [
       "<div>\n",
       "<style scoped>\n",
       "    .dataframe tbody tr th:only-of-type {\n",
       "        vertical-align: middle;\n",
       "    }\n",
       "\n",
       "    .dataframe tbody tr th {\n",
       "        vertical-align: top;\n",
       "    }\n",
       "\n",
       "    .dataframe thead th {\n",
       "        text-align: right;\n",
       "    }\n",
       "</style>\n",
       "<table border=\"1\" class=\"dataframe\">\n",
       "  <thead>\n",
       "    <tr style=\"text-align: right;\">\n",
       "      <th></th>\n",
       "      <th>Feature_A</th>\n",
       "      <th>Feature_B</th>\n",
       "      <th>Feature_C</th>\n",
       "    </tr>\n",
       "  </thead>\n",
       "  <tbody>\n",
       "    <tr>\n",
       "      <th>0</th>\n",
       "      <td>74</td>\n",
       "      <td>0.197761</td>\n",
       "      <td>58.886454</td>\n",
       "    </tr>\n",
       "    <tr>\n",
       "      <th>1</th>\n",
       "      <td>41</td>\n",
       "      <td>0.757659</td>\n",
       "      <td>44.895033</td>\n",
       "    </tr>\n",
       "    <tr>\n",
       "      <th>2</th>\n",
       "      <td>98</td>\n",
       "      <td>0.966197</td>\n",
       "      <td>46.293994</td>\n",
       "    </tr>\n",
       "    <tr>\n",
       "      <th>3</th>\n",
       "      <td>61</td>\n",
       "      <td>0.524129</td>\n",
       "      <td>55.067552</td>\n",
       "    </tr>\n",
       "    <tr>\n",
       "      <th>4</th>\n",
       "      <td>34</td>\n",
       "      <td>0.378569</td>\n",
       "      <td>50.946654</td>\n",
       "    </tr>\n",
       "  </tbody>\n",
       "</table>\n",
       "</div>"
      ],
      "text/plain": [
       "   Feature_A  Feature_B  Feature_C\n",
       "0         74   0.197761  58.886454\n",
       "1         41   0.757659  44.895033\n",
       "2         98   0.966197  46.293994\n",
       "3         61   0.524129  55.067552\n",
       "4         34   0.378569  50.946654"
      ]
     },
     "execution_count": 1,
     "metadata": {},
     "output_type": "execute_result"
    }
   ],
   "source": [
    "import pandas as pd\n",
    "import numpy as np\n",
    "\n",
    "# Create a synthetic dataset\n",
    "data = {\n",
    "    \"Feature_A\": np.random.randint(1, 100, 50),  # Feature with high values\n",
    "    \"Feature_B\": np.random.uniform(0.1, 1.0, 50),  # Feature with small values\n",
    "    \"Feature_C\": np.random.normal(50, 10, 50),  # Feature with normal distribution\n",
    "}\n",
    "df = pd.DataFrame(data)\n",
    "df.head()"
   ]
  },
  {
   "cell_type": "markdown",
   "id": "71a4bf97-bdef-4e8d-bfb1-71adb7f7243b",
   "metadata": {},
   "source": [
    "---"
   ]
  },
  {
   "cell_type": "markdown",
   "id": "313a81ca-325d-4d01-ad90-484d1efc3bb7",
   "metadata": {},
   "source": [
    "#### **Scaling the Dataset**"
   ]
  },
  {
   "cell_type": "code",
   "execution_count": 2,
   "id": "472b4b07-ec8a-4a97-8ed7-064c8bab896c",
   "metadata": {},
   "outputs": [],
   "source": [
    "from sklearn.preprocessing import StandardScaler, MinMaxScaler, RobustScaler"
   ]
  },
  {
   "cell_type": "code",
   "execution_count": 3,
   "id": "2557633e-d2b8-4809-8c0c-b5afb853c9b7",
   "metadata": {},
   "outputs": [],
   "source": [
    "# Apply StandardScaler\n",
    "scaler_standard = StandardScaler()\n",
    "df_scaled_standard = pd.DataFrame(scaler_standard.fit_transform(df), columns=df.columns)"
   ]
  },
  {
   "cell_type": "code",
   "execution_count": 4,
   "id": "7bfa8be5-9c33-4cb3-b949-a956b3c93b9c",
   "metadata": {},
   "outputs": [],
   "source": [
    "# Apply MinMaxScaler\n",
    "scaler_minmax = MinMaxScaler()\n",
    "df_scaled_minmax = pd.DataFrame(scaler_minmax.fit_transform(df), columns=df.columns)"
   ]
  },
  {
   "cell_type": "code",
   "execution_count": 5,
   "id": "6dbdd194-3704-4aee-a090-18309cf81702",
   "metadata": {},
   "outputs": [],
   "source": [
    "# Apply RobustScaler\n",
    "scaler_robust = RobustScaler()\n",
    "df_scaled_robust = pd.DataFrame(scaler_robust.fit_transform(df), columns=df.columns)"
   ]
  },
  {
   "cell_type": "markdown",
   "id": "b46d5b65-a289-4740-92ee-17b5cd1ea00c",
   "metadata": {},
   "source": [
    "---"
   ]
  },
  {
   "cell_type": "markdown",
   "id": "7148eb0b-4616-4398-9d3e-d019777e951c",
   "metadata": {},
   "source": [
    "#### **Visualizing the Scaling Results**"
   ]
  },
  {
   "cell_type": "code",
   "execution_count": 6,
   "id": "fc1f2657-4891-4c87-aa91-76f7eceb2635",
   "metadata": {},
   "outputs": [
    {
     "data": {
      "image/png": "[encoded data removed]",
      "text/plain": [
       "<Figure size 1000x1800 with 4 Axes>"
      ]
     },
     "metadata": {},
     "output_type": "display_data"
    }
   ],
   "source": [
    "import matplotlib.pyplot as plt\n",
    "\n",
    "# Visualize original and scaled data\n",
    "fig, axes = plt.subplots(4, 1, figsize=(10, 18), sharex=True)\n",
    "\n",
    "# Original data\n",
    "axes[0].boxplot(df.values, vert=False, labels=df.columns)\n",
    "axes[0].set_title(\"Original Data\")\n",
    "\n",
    "# Standard Scaled data\n",
    "axes[1].boxplot(df_scaled_standard.values, vert=False, labels=df.columns)\n",
    "axes[1].set_title(\"StandardScaler Applied\")\n",
    "\n",
    "# MinMax Scaled data\n",
    "axes[2].boxplot(df_scaled_minmax.values, vert=False, labels=df.columns)\n",
    "axes[2].set_title(\"MinMaxScaler Applied\")\n",
    "\n",
    "# Robust Scaled data\n",
    "axes[3].boxplot(df_scaled_robust.values, vert=False, labels=df.columns)\n",
    "axes[3].set_title(\"RobustScaler Applied\")\n",
    "\n",
    "plt.tight_layout()\n",
    "plt.show()"
   ]
  },
  {
   "cell_type": "markdown",
   "id": "d11d5d34-43fe-4b63-8c53-5d53b69e4195",
   "metadata": {},
   "source": [
    "---"
   ]
  },
  {
   "cell_type": "markdown",
   "id": "f17bd839-30ee-4ec7-b03d-6f8d9fd89a8b",
   "metadata": {},
   "source": [
    "## **4. Choosing the Right Method**\n",
    "\n",
    "### **Guidelines**:\n",
    "| **Scaler**         | **Use Case**                                                                 |\n",
    "|---------------------|-----------------------------------------------------------------------------|\n",
    "| **StandardScaler**  | Gradient-based models (Logistic Regression, SVM), KNN.                     |\n",
    "| **MinMaxScaler**    | Neural networks, tree-based models.                                        |\n",
    "| **RobustScaler**    | Data with many outliers; resistant to their influence.                     |\n",
    "\n",
    "---"
   ]
  },
  {
   "cell_type": "markdown",
   "id": "6d05be16-f434-45dd-908b-f32b88759b95",
   "metadata": {},
   "source": [
    "## **5. Effect of Scaling on Models**\n",
    "\n",
    "### Example: KNN Before and After Scaling"
   ]
  },
  {
   "cell_type": "code",
   "execution_count": 7,
   "id": "18fdfc74-a9ec-4ece-809d-95c4cd39128a",
   "metadata": {},
   "outputs": [],
   "source": [
    "from sklearn.neighbors import KNeighborsClassifier\n",
    "from sklearn.model_selection import train_test_split\n",
    "from sklearn.metrics import accuracy_score"
   ]
  },
  {
   "cell_type": "code",
   "execution_count": 8,
   "id": "b8c99ff2-4b59-4885-8d47-a346754f62d2",
   "metadata": {},
   "outputs": [],
   "source": [
    "# Example dataset for classification\n",
    "df_classification = pd.DataFrame({\n",
    "    \"Feature_A\": np.random.randint(1, 100, 10000),\n",
    "    \"Feature_B\": np.random.uniform(0.1, 10, 10000),\n",
    "    \"Target\": np.random.choice([0, 1], 10000)\n",
    "})"
   ]
  },
  {
   "cell_type": "code",
   "execution_count": 9,
   "id": "b2546f7c-af52-42be-940d-37683f3364f7",
   "metadata": {},
   "outputs": [],
   "source": [
    "X = df_classification[[\"Feature_A\", \"Feature_B\"]]\n",
    "y = df_classification[\"Target\"]"
   ]
  },
  {
   "cell_type": "code",
   "execution_count": 10,
   "id": "d31af840-6060-4759-bde6-195e78fae7a7",
   "metadata": {},
   "outputs": [],
   "source": [
    "# Train-test split\n",
    "X_train, X_test, y_train, y_test = train_test_split(X, y, test_size=0.2, random_state=42)"
   ]
  },
  {
   "cell_type": "code",
   "execution_count": 11,
   "id": "77f7f788-7f6e-44bd-afda-13814657e487",
   "metadata": {},
   "outputs": [
    {
     "name": "stdout",
     "output_type": "stream",
     "text": [
      "Accuracy without scaling: 0.496\n"
     ]
    }
   ],
   "source": [
    "# KNN without scaling\n",
    "knn = KNeighborsClassifier(n_neighbors=3)\n",
    "knn.fit(X_train, y_train)\n",
    "y_pred = knn.predict(X_test)\n",
    "print(\"Accuracy without scaling:\", accuracy_score(y_test, y_pred))"
   ]
  },
  {
   "cell_type": "code",
   "execution_count": 12,
   "id": "ce7270ea-d467-48de-b564-c1afce8f7cc6",
   "metadata": {},
   "outputs": [],
   "source": [
    "# KNN with scaling\n",
    "scaler = StandardScaler()\n",
    "X_train_scaled = scaler.fit_transform(X_train)\n",
    "X_test_scaled = scaler.transform(X_test)"
   ]
  },
  {
   "cell_type": "code",
   "execution_count": 13,
   "id": "1a2a4202-d7aa-43e3-ac12-bba276f8e246",
   "metadata": {},
   "outputs": [
    {
     "name": "stdout",
     "output_type": "stream",
     "text": [
      "Accuracy with scaling: 0.5095\n"
     ]
    }
   ],
   "source": [
    "knn.fit(X_train_scaled, y_train)\n",
    "y_pred_scaled = knn.predict(X_test_scaled)\n",
    "print(\"Accuracy with scaling:\", accuracy_score(y_test, y_pred_scaled))"
   ]
  },
  {
   "cell_type": "markdown",
   "id": "6621faa3-3b03-4fec-8432-9d35d5b1c219",
   "metadata": {},
   "source": [
    "---"
   ]
  },
  {
   "cell_type": "markdown",
   "id": "abd08291-e6f4-4f24-8ee9-f16c55b25452",
   "metadata": {},
   "source": [
    "## **6. Summary**\n",
    "\n",
    "- Scaling ensures uniform feature magnitudes, which is critical for many machine learning models.\n",
    "- The choice of scaler depends on the data's characteristics and the model's requirements.\n",
    "- Visual comparisons help identify how scaling methods transform feature distributions.\n",
    "\n",
    "---\n",
    "---"
   ]
  },
  {
   "cell_type": "code",
   "execution_count": null,
   "id": "c504a717-43b1-481e-b7fb-7d5d70da89a3",
   "metadata": {},
   "outputs": [],
   "source": []
  }
 ],
 "metadata": {
  "kernelspec": {
   "display_name": "Python 3 (ipykernel)",
   "language": "python",
   "name": "python3"
  },
  "language_info": {
   "codemirror_mode": {
    "name": "ipython",
    "version": 3
   },
   "file_extension": ".py",
   "mimetype": "text/x-python",
   "name": "python",
   "nbconvert_exporter": "python",
   "pygments_lexer": "ipython3",
   "version": "3.12.4"
  }
 },
 "nbformat": 4,
 "nbformat_minor": 5
}
